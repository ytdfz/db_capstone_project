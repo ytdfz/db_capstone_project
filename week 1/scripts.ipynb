{
 "cells": [
  {
   "attachments": {},
   "cell_type": "markdown",
   "metadata": {},
   "source": [
    "## Procedures\n",
    "\n",
    "```GetMaxQuantity()```: displays the maximum ordered quantity in the Orders table.\n",
    "\n",
    "```ManageBooking()```\n",
    "\n",
    "```UpdateBooking()```: The procedure should have two input parameters in the form of booking id and booking date. You must also include an ```UPDATE``` statement inside the procedure. \n",
    "\n",
    "Example picture as follows:\n",
    "\n",
    "![UpdateBooking](./img/UpdateBookingProcedure.png)\n",
    "\n",
    "```AddBooking()```: The procedure should include four input parameters in the form of the following bookings parameters:\n",
    "- booking id, \n",
    "\n",
    "- customer id, \n",
    "\n",
    "- booking date,\n",
    "\n",
    "- and table number.\n",
    "\n",
    "Example picture as follows:\n",
    "\n",
    "![AddBooking](./img/AddBookingProcedure.png)\n",
    "\n",
    "```CancelBooking()```: delete an order record based on the user input of the order id.\n",
    "Example: ```call CancelBooking(9);``` \n",
    "\n",
    "![CancelBooking](./img/CancelBookingProcedure.png)\n"
   ]
  },
  {
   "cell_type": "code",
   "execution_count": null,
   "metadata": {},
   "outputs": [],
   "source": []
  },
  {
   "attachments": {},
   "cell_type": "markdown",
   "metadata": {},
   "source": [
    "Insert values into orders:\n",
    "```sql\n",
    "insert into orders(OrderID, OrderDate, Quantity, Cost, MenuID, CustomerID) values (1, '2000-1-1', 1, 200, 1, 1), (2, '2000-1-1', 2, 100, 2, 2), (3, '2000-1-1', 1, 20, 3, 3), (4, '2000-1-1', 4, 10, 4, 4);\n",
    "```"
   ]
  }
 ],
 "metadata": {
  "language_info": {
   "name": "python"
  },
  "orig_nbformat": 4
 },
 "nbformat": 4,
 "nbformat_minor": 2
}
